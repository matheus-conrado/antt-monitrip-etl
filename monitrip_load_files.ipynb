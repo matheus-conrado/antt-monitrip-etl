{
 "cells": [
  {
   "cell_type": "code",
   "execution_count": 25,
   "metadata": {},
   "outputs": [],
   "source": [
    "from pyspark.sql import SparkSession\n",
    "from pyspark.sql.types import StructType, StringType, BooleanType, LongType, DoubleType\n",
    "import json"
   ]
  },
  {
   "cell_type": "code",
   "execution_count": 26,
   "metadata": {},
   "outputs": [],
   "source": [
    "spark = SparkSession.builder \\\n",
    "    .appName(\"Lendo arquivos Parquet\") \\\n",
    "    .getOrCreate()"
   ]
  },
  {
   "cell_type": "code",
   "execution_count": 27,
   "metadata": {},
   "outputs": [],
   "source": [
    "def _get_schema_data(name: str) -> str:\n",
    "    with open(f\"./schemas/{name}.json\") as arquivo:\n",
    "        schema = json.load(arquivo)\n",
    "    return \",\".join(map(lambda p: f\"{p['name']}:{p['type']}\", schema['fields']))"
   ]
  },
  {
   "cell_type": "code",
   "execution_count": 28,
   "metadata": {},
   "outputs": [],
   "source": [
    "def _build_schema(schema_arg: str):\n",
    "    d_types = {\n",
    "        \"string\": StringType(),\n",
    "        \"long\": LongType(),\n",
    "        \"double\": DoubleType(),\n",
    "        \"bool\": BooleanType()\n",
    "    }\n",
    "    \n",
    "    split_values = schema_arg.split(\",\")\n",
    "    schema = StructType()\n",
    "    \n",
    "    for word in split_values:\n",
    "        x = word.split(\":\")\n",
    "        schema.add(x[0], d_types[x[1]], True)\n",
    "    \n",
    "    return schema"
   ]
  },
  {
   "cell_type": "code",
   "execution_count": 29,
   "metadata": {},
   "outputs": [],
   "source": [
    "def _get_file(table: str):\n",
    "    df = spark.read \\\n",
    "                .schema(_build_schema(_get_schema_data(table))) \\\n",
    "                .parquet(f\"./data/silver/{table}\")\n",
    "    return df.show()"
   ]
  },
  {
   "cell_type": "code",
   "execution_count": 30,
   "metadata": {},
   "outputs": [
    {
     "name": "stdout",
     "output_type": "stream",
     "text": [
      "+-------------------+----------+--------------------+--------------------+--------------------+--------------------+-----------------+--------------+-------------------+\n",
      "|mes_emissao_bilhete|mes_viagem| ponto_origem_viagem|ponto_destino_viagem|        tipo_servico|     tipo_gratuidade|media_valor_total|dp_valor_total|quantidade_bilhetes|\n",
      "+-------------------+----------+--------------------+--------------------+--------------------+--------------------+-----------------+--------------+-------------------+\n",
      "|            08/2022|   08/2022|         SERRINHA/BA|    MIGUEL CALMON/BA|           Executivo|Tarifa Normal - s...|            58.05|           0.0|                3.0|\n",
      "|            08/2022|   10/2022|      JOAO PESSOA/PB|         BRASILIA/DF|           Executivo|Tarifa Normal - s...|            638.2|           0.0|                2.0|\n",
      "|            08/2022|   07/2022|   RIO DE JANEIRO/RJ|              UBA/MG|           Executivo|Tarifa Promociona...|             88.4|         16.14|                4.0|\n",
      "|            08/2022|   09/2022|           SEABRA/BA|         BRASILIA/DF|           Executivo|Tarifa Promociona...|           336.99|           0.0|                2.0|\n",
      "|            08/2022|   09/2022|        AMERICANA/SP|           CUIABA/MT|Leito com ar cond...|Tarifa Normal - s...|           578.97|           0.0|                1.0|\n",
      "|            08/2022|   09/2022|         CURITIBA/PR|          TUBARAO/SC|Leito com ar cond...|Tarifa Normal - s...|           158.19|          11.7|                4.0|\n",
      "|            08/2022|   08/2022|       MOJI-MIRIM/SP|          ITAJUBA/MG|Convencional com ...|Bilhete de Viagem...|            38.03|           0.0|                4.0|\n",
      "|            08/2022|   09/2022|        SAO PAULO/SP|APARECIDA DO TABO...|Convencional com ...|Tarifa Normal - s...|           103.98|         31.64|                3.0|\n",
      "|            08/2022|   08/2022|          GOIANIA/GO|BRASILANDIA DO TO...|           Executivo|Tarifa Promociona...|            160.0|           0.0|                1.0|\n",
      "|            08/2022|   11/2022|         REGISTRO/SP|         CURITIBA/PR|Convencional com ...|Tarifa Normal - s...|              0.0|           0.0|                1.0|\n",
      "|            08/2022|   09/2022|          GOIANIA/GO| FEIRA DE SANTANA/BA|Convencional com ...|Tarifa Normal - s...|           385.27|         11.68|                2.0|\n",
      "|            08/2022|   08/2022|           CUIABA/MT|         SANTAREM/PA|           Semileito|Tarifa Normal - s...|           609.51|        127.29|              121.0|\n",
      "|            08/2022|   08/2022|    PIMENTA BUENO/RO|          CACERES/MT|           Executivo|Gratuidade de Cri...|              0.0|           0.0|                1.0|\n",
      "|            08/2022|   08/2022|          GOIANIA/GO|SAO MIGUEL DO GUA...|Convencional com ...|Tarifa Normal - s...|           410.72|          6.94|               10.0|\n",
      "|            08/2022|   09/2022|        SAO PAULO/SP|            ARAXA/MG|           Executivo|Tarifa Promociona...|           126.08|          28.8|              149.0|\n",
      "|            08/2022|   09/2022|         CAMPINAS/SP|         CURITIBA/PR|           Semileito|Tarifa Normal - s...|            168.8|         45.37|               48.0|\n",
      "|            08/2022|   08/2022|       ACAILANDIA/MA|        FORTALEZA/CE|Convencional com ...|Tarifa Normal - s...|           301.47|          5.95|                6.0|\n",
      "|            08/2022|   08/2022|      JOAO PESSOA/PB|        SALGUEIRO/PE|Convencional com ...|Tarifa Normal - s...|            174.1|          55.9|                2.0|\n",
      "|            08/2022|   08/2022|VITORIA DA CONQUI...|          VITORIA/ES|           Semileito|Tarifa Normal - s...|            287.9|         61.17|              154.0|\n",
      "|            08/2022|   09/2022|   BELO HORIZONTE/MG|        SAO PAULO/SP|           Executivo|Tarifa Normal - s...|           123.25|         20.35|                4.0|\n",
      "+-------------------+----------+--------------------+--------------------+--------------------+--------------------+-----------------+--------------+-------------------+\n",
      "only showing top 20 rows\n",
      "\n"
     ]
    }
   ],
   "source": [
    "_get_file(\"monitrip\")"
   ]
  },
  {
   "cell_type": "code",
   "execution_count": null,
   "metadata": {},
   "outputs": [],
   "source": []
  }
 ],
 "metadata": {
  "kernelspec": {
   "display_name": "Python 3 (ipykernel)",
   "language": "python",
   "name": "python3"
  },
  "language_info": {
   "codemirror_mode": {
    "name": "ipython",
    "version": 3
   },
   "file_extension": ".py",
   "mimetype": "text/x-python",
   "name": "python",
   "nbconvert_exporter": "python",
   "pygments_lexer": "ipython3",
   "version": "3.11.4"
  },
  "orig_nbformat": 4
 },
 "nbformat": 4,
 "nbformat_minor": 2
}
