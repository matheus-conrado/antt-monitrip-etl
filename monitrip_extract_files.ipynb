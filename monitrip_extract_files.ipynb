{
 "cells": [
  {
   "cell_type": "code",
   "execution_count": 2,
   "id": "b84227ef-42ac-4643-94ca-4ad401771ae7",
   "metadata": {},
   "outputs": [],
   "source": [
    "import requests\n",
    "import bs4\n",
    "from tqdm import tqdm\n",
    "from zipfile import ZipFile\n",
    "import re"
   ]
  },
  {
   "cell_type": "code",
   "execution_count": 1,
   "id": "0881865a-6f13-43ff-8e0a-a7f43bf4e38f",
   "metadata": {},
   "outputs": [],
   "source": [
    "url = \"https://dados.gov.br/api/publico/conjuntos-dados/monitriip-bilhetes-de-passagem1\""
   ]
  },
  {
   "cell_type": "code",
   "execution_count": 3,
   "id": "9a1729f2",
   "metadata": {},
   "outputs": [],
   "source": [
    "#def _extract_files(url):\n",
    "#    file_name = url.split(\"/\")[-1]\n",
    "#    with ZipFile(f\".//data//bronze//{file_name}\", 'r') as zip_ref:\n",
    "#        zip_ref.extractall(f\".//data//bronze//{re.match(_regex, file_name).group(1)}//\")"
   ]
  },
  {
   "cell_type": "code",
   "execution_count": 4,
   "id": "29c43993-e9ca-41a6-8d09-afb95de0eb27",
   "metadata": {},
   "outputs": [],
   "source": [
    "def _download_file(url):\n",
    "    req = requests.get(url, stream=True, headers={\"Accept-Encoding\": None})\n",
    "    total_size = int(req.headers.get(\"Content-Length\", 0))\n",
    "    block_size = 1024\n",
    "    filename = url.split(\"/\")[-1]\n",
    "    \n",
    "    t = tqdm(total=total_size, unit=\"iB\", unit_scale=True)\n",
    "    with open(f\".//data//bronze//{filename}\", \"wb\") as f:\n",
    "        for data in req.iter_content(block_size):\n",
    "            t.update(len(data))\n",
    "            f.write(data)\n",
    "    t.close()"
   ]
  },
  {
   "cell_type": "code",
   "execution_count": 5,
   "id": "018879a6-cbee-42a4-ab40-8819e0ea8725",
   "metadata": {},
   "outputs": [],
   "source": [
    "def get_links_for_download(url: str):\n",
    "    req = requests.get(url)\n",
    "    links = req.json()[\"resources\"]\n",
    "    links_archives = [link[\"url\"] for link in links]\n",
    "    return links_archives[2:]"
   ]
  },
  {
   "cell_type": "code",
   "execution_count": 6,
   "id": "ba392add-6735-4313-b5e4-145db21dabb4",
   "metadata": {},
   "outputs": [
    {
     "name": "stderr",
     "output_type": "stream",
     "text": [
      "10.2MiB [00:10, 987kiB/s] \n",
      "8.70MiB [00:10, 840kiB/s] \n",
      "8.28MiB [00:04, 1.70MiB/s]\n",
      "10.5MiB [00:10, 1.01MiB/s]\n",
      "12.5MiB [00:08, 1.46MiB/s]\n",
      "12.0MiB [00:06, 1.94MiB/s]\n",
      "13.5MiB [00:11, 1.22MiB/s]\n",
      "11.3MiB [00:08, 1.32MiB/s]\n",
      "13.0MiB [00:15, 855kiB/s] \n",
      "13.8MiB [00:11, 1.19MiB/s]\n",
      "13.2MiB [00:09, 1.40MiB/s]\n",
      "17.3MiB [00:10, 1.69MiB/s]\n",
      "16.5MiB [00:20, 821kiB/s] \n",
      "15.9MiB [00:14, 1.10MiB/s]\n",
      "12.0MiB [00:13, 899kiB/s] \n",
      "2.74MiB [00:02, 1.36MiB/s]\n",
      "2.69MiB [00:02, 1.09MiB/s]\n",
      "4.09MiB [00:03, 1.25MiB/s]\n",
      "5.91MiB [00:04, 1.41MiB/s]\n",
      "8.64MiB [00:05, 1.49MiB/s]\n",
      "9.55MiB [00:08, 1.14MiB/s]\n",
      "12.5MiB [00:10, 1.23MiB/s]\n",
      "13.5MiB [00:06, 2.16MiB/s]\n",
      "15.3MiB [00:11, 1.33MiB/s]\n",
      "14.7MiB [00:15, 946kiB/s] \n",
      "13.5MiB [00:17, 772kiB/s] \n",
      "13.2MiB [00:11, 1.10MiB/s]\n",
      "13.4MiB [00:09, 1.43MiB/s]\n",
      "14.2MiB [00:16, 871kiB/s] \n",
      "14.3MiB [00:14, 980kiB/s] \n",
      "15.8MiB [00:16, 970kiB/s] \n",
      "16.0MiB [00:15, 1.07MiB/s]\n",
      "15.8MiB [00:17, 930kiB/s] \n",
      "16.2MiB [00:17, 917kiB/s] \n",
      "16.4MiB [00:08, 1.99MiB/s]\n",
      "19.6MiB [00:19, 1.01MiB/s]\n",
      "17.2MiB [00:13, 1.28MiB/s]\n",
      "16.6MiB [00:12, 1.31MiB/s]\n",
      "17.0MiB [00:18, 944kiB/s] \n",
      "19.1MiB [00:14, 1.29MiB/s]\n",
      "16.8MiB [00:12, 1.30MiB/s]\n",
      "16.3MiB [00:13, 1.25MiB/s]\n",
      "20.0MiB [00:19, 1.02MiB/s]\n",
      "20.3MiB [00:19, 1.03MiB/s]\n",
      "17.5MiB [00:15, 1.16MiB/s]\n",
      "13.5MiB [00:09, 1.48MiB/s]\n",
      "15.2MiB [00:10, 1.44MiB/s]\n",
      "15.4MiB [00:13, 1.11MiB/s]\n",
      "12.3MiB [00:10, 1.22MiB/s]\n",
      "14.8MiB [00:18, 811kiB/s] \n",
      "12.4MiB [00:11, 1.06MiB/s]\n",
      "16.1MiB [00:10, 1.61MiB/s]\n",
      "14.4MiB [00:10, 1.35MiB/s]\n"
     ]
    }
   ],
   "source": [
    "links = get_links_for_download(url)\n",
    "for url in links:\n",
    "    _download_file(url)"
   ]
  },
  {
   "cell_type": "code",
   "execution_count": null,
   "id": "22f04cf9",
   "metadata": {},
   "outputs": [],
   "source": []
  }
 ],
 "metadata": {
  "kernelspec": {
   "display_name": "Python 3 (ipykernel)",
   "language": "python",
   "name": "python3"
  }
 },
 "nbformat": 4,
 "nbformat_minor": 5
}
